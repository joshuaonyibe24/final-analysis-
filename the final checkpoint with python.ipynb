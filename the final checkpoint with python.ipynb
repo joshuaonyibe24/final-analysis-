{
 "cells": [
  {
   "cell_type": "code",
   "execution_count": 19,
   "id": "79ab58ad",
   "metadata": {},
   "outputs": [],
   "source": [
    "import pandas as pd\n",
    "import numpy as np"
   ]
  },
  {
   "cell_type": "code",
   "execution_count": 2,
   "id": "cdc63565",
   "metadata": {},
   "outputs": [],
   "source": [
    "data = pd.read_csv('CleanCreditScoring.csv')"
   ]
  },
  {
   "cell_type": "code",
   "execution_count": 3,
   "id": "0c6435ff",
   "metadata": {},
   "outputs": [
    {
     "data": {
      "text/html": [
       "<div>\n",
       "<style scoped>\n",
       "    .dataframe tbody tr th:only-of-type {\n",
       "        vertical-align: middle;\n",
       "    }\n",
       "\n",
       "    .dataframe tbody tr th {\n",
       "        vertical-align: top;\n",
       "    }\n",
       "\n",
       "    .dataframe thead th {\n",
       "        text-align: right;\n",
       "    }\n",
       "</style>\n",
       "<table border=\"1\" class=\"dataframe\">\n",
       "  <thead>\n",
       "    <tr style=\"text-align: right;\">\n",
       "      <th></th>\n",
       "      <th>Status</th>\n",
       "      <th>Seniority</th>\n",
       "      <th>Home</th>\n",
       "      <th>Time</th>\n",
       "      <th>Age</th>\n",
       "      <th>Marital</th>\n",
       "      <th>Records</th>\n",
       "      <th>Job</th>\n",
       "      <th>Expenses</th>\n",
       "      <th>Income</th>\n",
       "      <th>...</th>\n",
       "      <th>timeR</th>\n",
       "      <th>ageR</th>\n",
       "      <th>expensesR</th>\n",
       "      <th>incomeR</th>\n",
       "      <th>assetsR</th>\n",
       "      <th>debtR</th>\n",
       "      <th>amountR</th>\n",
       "      <th>priceR</th>\n",
       "      <th>finratR</th>\n",
       "      <th>savingsR</th>\n",
       "    </tr>\n",
       "  </thead>\n",
       "  <tbody>\n",
       "    <tr>\n",
       "      <th>0</th>\n",
       "      <td>good</td>\n",
       "      <td>9</td>\n",
       "      <td>rent</td>\n",
       "      <td>60</td>\n",
       "      <td>30</td>\n",
       "      <td>married</td>\n",
       "      <td>no_rec</td>\n",
       "      <td>freelance</td>\n",
       "      <td>73</td>\n",
       "      <td>129</td>\n",
       "      <td>...</td>\n",
       "      <td>time (48,99]</td>\n",
       "      <td>age (25,30]</td>\n",
       "      <td>exp (60,80]</td>\n",
       "      <td>inc (110,140]</td>\n",
       "      <td>asset (-1,0]</td>\n",
       "      <td>debt (-1,0]</td>\n",
       "      <td>am (600,900]</td>\n",
       "      <td>priz (0,1e+03]</td>\n",
       "      <td>finr (90,100]</td>\n",
       "      <td>sav (4,6]</td>\n",
       "    </tr>\n",
       "    <tr>\n",
       "      <th>1</th>\n",
       "      <td>good</td>\n",
       "      <td>17</td>\n",
       "      <td>rent</td>\n",
       "      <td>60</td>\n",
       "      <td>58</td>\n",
       "      <td>widow</td>\n",
       "      <td>no_rec</td>\n",
       "      <td>fixed</td>\n",
       "      <td>48</td>\n",
       "      <td>131</td>\n",
       "      <td>...</td>\n",
       "      <td>time (48,99]</td>\n",
       "      <td>age (50,99]</td>\n",
       "      <td>exp (40,50]</td>\n",
       "      <td>inc (110,140]</td>\n",
       "      <td>asset (-1,0]</td>\n",
       "      <td>debt (-1,0]</td>\n",
       "      <td>am (900,1.1e+03]</td>\n",
       "      <td>priz (1.5e+03,1.8e+03]</td>\n",
       "      <td>finr (50,70]</td>\n",
       "      <td>sav (4,6]</td>\n",
       "    </tr>\n",
       "    <tr>\n",
       "      <th>2</th>\n",
       "      <td>bad</td>\n",
       "      <td>10</td>\n",
       "      <td>owner</td>\n",
       "      <td>36</td>\n",
       "      <td>46</td>\n",
       "      <td>married</td>\n",
       "      <td>yes_rec</td>\n",
       "      <td>freelance</td>\n",
       "      <td>90</td>\n",
       "      <td>200</td>\n",
       "      <td>...</td>\n",
       "      <td>time (24,36]</td>\n",
       "      <td>age (40,50]</td>\n",
       "      <td>exp (80,1e+04]</td>\n",
       "      <td>inc (190,1e+04]</td>\n",
       "      <td>asset (0,3e+03]</td>\n",
       "      <td>debt (-1,0]</td>\n",
       "      <td>am (1.4e+03,1e+05]</td>\n",
       "      <td>priz (1.8e+03,1e+05]</td>\n",
       "      <td>finr (50,70]</td>\n",
       "      <td>sav (0,2]</td>\n",
       "    </tr>\n",
       "    <tr>\n",
       "      <th>3</th>\n",
       "      <td>good</td>\n",
       "      <td>0</td>\n",
       "      <td>rent</td>\n",
       "      <td>60</td>\n",
       "      <td>24</td>\n",
       "      <td>single</td>\n",
       "      <td>no_rec</td>\n",
       "      <td>fixed</td>\n",
       "      <td>63</td>\n",
       "      <td>182</td>\n",
       "      <td>...</td>\n",
       "      <td>time (48,99]</td>\n",
       "      <td>age (0,25]</td>\n",
       "      <td>exp (60,80]</td>\n",
       "      <td>inc (140,190]</td>\n",
       "      <td>asset (0,3e+03]</td>\n",
       "      <td>debt (-1,0]</td>\n",
       "      <td>am (600,900]</td>\n",
       "      <td>priz (1.3e+03,1.5e+03]</td>\n",
       "      <td>finr (50,70]</td>\n",
       "      <td>sav (6,99]</td>\n",
       "    </tr>\n",
       "    <tr>\n",
       "      <th>4</th>\n",
       "      <td>good</td>\n",
       "      <td>0</td>\n",
       "      <td>rent</td>\n",
       "      <td>36</td>\n",
       "      <td>26</td>\n",
       "      <td>single</td>\n",
       "      <td>no_rec</td>\n",
       "      <td>fixed</td>\n",
       "      <td>46</td>\n",
       "      <td>107</td>\n",
       "      <td>...</td>\n",
       "      <td>time (24,36]</td>\n",
       "      <td>age (25,30]</td>\n",
       "      <td>exp (40,50]</td>\n",
       "      <td>inc (80,110]</td>\n",
       "      <td>asset (-1,0]</td>\n",
       "      <td>debt (-1,0]</td>\n",
       "      <td>am (0,600]</td>\n",
       "      <td>priz (0,1e+03]</td>\n",
       "      <td>finr (0,50]</td>\n",
       "      <td>sav (6,99]</td>\n",
       "    </tr>\n",
       "  </tbody>\n",
       "</table>\n",
       "<p>5 rows × 27 columns</p>\n",
       "</div>"
      ],
      "text/plain": [
       "  Status  Seniority   Home  Time  Age  Marital  Records        Job  Expenses  \\\n",
       "0   good          9   rent    60   30  married   no_rec  freelance        73   \n",
       "1   good         17   rent    60   58    widow   no_rec      fixed        48   \n",
       "2    bad         10  owner    36   46  married  yes_rec  freelance        90   \n",
       "3   good          0   rent    60   24   single   no_rec      fixed        63   \n",
       "4   good          0   rent    36   26   single   no_rec      fixed        46   \n",
       "\n",
       "   Income  ...         timeR         ageR       expensesR          incomeR  \\\n",
       "0     129  ...  time (48,99]  age (25,30]     exp (60,80]    inc (110,140]   \n",
       "1     131  ...  time (48,99]  age (50,99]     exp (40,50]    inc (110,140]   \n",
       "2     200  ...  time (24,36]  age (40,50]  exp (80,1e+04]  inc (190,1e+04]   \n",
       "3     182  ...  time (48,99]   age (0,25]     exp (60,80]    inc (140,190]   \n",
       "4     107  ...  time (24,36]  age (25,30]     exp (40,50]     inc (80,110]   \n",
       "\n",
       "           assetsR        debtR             amountR                  priceR  \\\n",
       "0     asset (-1,0]  debt (-1,0]        am (600,900]          priz (0,1e+03]   \n",
       "1     asset (-1,0]  debt (-1,0]    am (900,1.1e+03]  priz (1.5e+03,1.8e+03]   \n",
       "2  asset (0,3e+03]  debt (-1,0]  am (1.4e+03,1e+05]    priz (1.8e+03,1e+05]   \n",
       "3  asset (0,3e+03]  debt (-1,0]        am (600,900]  priz (1.3e+03,1.5e+03]   \n",
       "4     asset (-1,0]  debt (-1,0]          am (0,600]          priz (0,1e+03]   \n",
       "\n",
       "         finratR    savingsR  \n",
       "0  finr (90,100]   sav (4,6]  \n",
       "1   finr (50,70]   sav (4,6]  \n",
       "2   finr (50,70]   sav (0,2]  \n",
       "3   finr (50,70]  sav (6,99]  \n",
       "4    finr (0,50]  sav (6,99]  \n",
       "\n",
       "[5 rows x 27 columns]"
      ]
     },
     "execution_count": 3,
     "metadata": {},
     "output_type": "execute_result"
    }
   ],
   "source": [
    " #data exploration\n",
    "data.head()"
   ]
  },
  {
   "cell_type": "code",
   "execution_count": 4,
   "id": "5c7b7e47",
   "metadata": {},
   "outputs": [
    {
     "data": {
      "text/html": [
       "<div>\n",
       "<style scoped>\n",
       "    .dataframe tbody tr th:only-of-type {\n",
       "        vertical-align: middle;\n",
       "    }\n",
       "\n",
       "    .dataframe tbody tr th {\n",
       "        vertical-align: top;\n",
       "    }\n",
       "\n",
       "    .dataframe thead th {\n",
       "        text-align: right;\n",
       "    }\n",
       "</style>\n",
       "<table border=\"1\" class=\"dataframe\">\n",
       "  <thead>\n",
       "    <tr style=\"text-align: right;\">\n",
       "      <th></th>\n",
       "      <th>Seniority</th>\n",
       "      <th>Time</th>\n",
       "      <th>Age</th>\n",
       "      <th>Expenses</th>\n",
       "      <th>Income</th>\n",
       "      <th>Assets</th>\n",
       "      <th>Debt</th>\n",
       "      <th>Amount</th>\n",
       "      <th>Price</th>\n",
       "      <th>Finrat</th>\n",
       "      <th>Savings</th>\n",
       "    </tr>\n",
       "  </thead>\n",
       "  <tbody>\n",
       "    <tr>\n",
       "      <th>count</th>\n",
       "      <td>4446.000000</td>\n",
       "      <td>4446.000000</td>\n",
       "      <td>4446.000000</td>\n",
       "      <td>4446.000000</td>\n",
       "      <td>4446.000000</td>\n",
       "      <td>4446.000000</td>\n",
       "      <td>4446.000000</td>\n",
       "      <td>4446.000000</td>\n",
       "      <td>4446.000000</td>\n",
       "      <td>4446.000000</td>\n",
       "      <td>4446.000000</td>\n",
       "    </tr>\n",
       "    <tr>\n",
       "      <th>mean</th>\n",
       "      <td>7.991453</td>\n",
       "      <td>46.453441</td>\n",
       "      <td>37.084121</td>\n",
       "      <td>55.601439</td>\n",
       "      <td>140.629780</td>\n",
       "      <td>5354.948943</td>\n",
       "      <td>342.257085</td>\n",
       "      <td>1038.763383</td>\n",
       "      <td>1462.480432</td>\n",
       "      <td>72.616409</td>\n",
       "      <td>3.860083</td>\n",
       "    </tr>\n",
       "    <tr>\n",
       "      <th>std</th>\n",
       "      <td>8.176370</td>\n",
       "      <td>14.647979</td>\n",
       "      <td>10.986366</td>\n",
       "      <td>19.520839</td>\n",
       "      <td>80.177896</td>\n",
       "      <td>11534.328183</td>\n",
       "      <td>1244.694549</td>\n",
       "      <td>474.747952</td>\n",
       "      <td>628.555171</td>\n",
       "      <td>20.390595</td>\n",
       "      <td>3.726292</td>\n",
       "    </tr>\n",
       "    <tr>\n",
       "      <th>min</th>\n",
       "      <td>0.000000</td>\n",
       "      <td>6.000000</td>\n",
       "      <td>18.000000</td>\n",
       "      <td>35.000000</td>\n",
       "      <td>1.000000</td>\n",
       "      <td>0.000000</td>\n",
       "      <td>0.000000</td>\n",
       "      <td>100.000000</td>\n",
       "      <td>105.000000</td>\n",
       "      <td>6.702413</td>\n",
       "      <td>-8.160000</td>\n",
       "    </tr>\n",
       "    <tr>\n",
       "      <th>25%</th>\n",
       "      <td>2.000000</td>\n",
       "      <td>36.000000</td>\n",
       "      <td>28.000000</td>\n",
       "      <td>35.000000</td>\n",
       "      <td>90.000000</td>\n",
       "      <td>0.000000</td>\n",
       "      <td>0.000000</td>\n",
       "      <td>700.000000</td>\n",
       "      <td>1116.250000</td>\n",
       "      <td>60.030020</td>\n",
       "      <td>1.615385</td>\n",
       "    </tr>\n",
       "    <tr>\n",
       "      <th>50%</th>\n",
       "      <td>5.000000</td>\n",
       "      <td>48.000000</td>\n",
       "      <td>36.000000</td>\n",
       "      <td>51.000000</td>\n",
       "      <td>124.000000</td>\n",
       "      <td>3000.000000</td>\n",
       "      <td>0.000000</td>\n",
       "      <td>1000.000000</td>\n",
       "      <td>1400.000000</td>\n",
       "      <td>77.096757</td>\n",
       "      <td>3.120000</td>\n",
       "    </tr>\n",
       "    <tr>\n",
       "      <th>75%</th>\n",
       "      <td>12.000000</td>\n",
       "      <td>60.000000</td>\n",
       "      <td>45.000000</td>\n",
       "      <td>72.000000</td>\n",
       "      <td>170.000000</td>\n",
       "      <td>6000.000000</td>\n",
       "      <td>0.000000</td>\n",
       "      <td>1300.000000</td>\n",
       "      <td>1691.500000</td>\n",
       "      <td>88.460263</td>\n",
       "      <td>5.195688</td>\n",
       "    </tr>\n",
       "    <tr>\n",
       "      <th>max</th>\n",
       "      <td>48.000000</td>\n",
       "      <td>72.000000</td>\n",
       "      <td>68.000000</td>\n",
       "      <td>180.000000</td>\n",
       "      <td>959.000000</td>\n",
       "      <td>300000.000000</td>\n",
       "      <td>30000.000000</td>\n",
       "      <td>5000.000000</td>\n",
       "      <td>11140.000000</td>\n",
       "      <td>100.000000</td>\n",
       "      <td>33.250000</td>\n",
       "    </tr>\n",
       "  </tbody>\n",
       "</table>\n",
       "</div>"
      ],
      "text/plain": [
       "         Seniority         Time          Age     Expenses       Income  \\\n",
       "count  4446.000000  4446.000000  4446.000000  4446.000000  4446.000000   \n",
       "mean      7.991453    46.453441    37.084121    55.601439   140.629780   \n",
       "std       8.176370    14.647979    10.986366    19.520839    80.177896   \n",
       "min       0.000000     6.000000    18.000000    35.000000     1.000000   \n",
       "25%       2.000000    36.000000    28.000000    35.000000    90.000000   \n",
       "50%       5.000000    48.000000    36.000000    51.000000   124.000000   \n",
       "75%      12.000000    60.000000    45.000000    72.000000   170.000000   \n",
       "max      48.000000    72.000000    68.000000   180.000000   959.000000   \n",
       "\n",
       "              Assets          Debt       Amount         Price       Finrat  \\\n",
       "count    4446.000000   4446.000000  4446.000000   4446.000000  4446.000000   \n",
       "mean     5354.948943    342.257085  1038.763383   1462.480432    72.616409   \n",
       "std     11534.328183   1244.694549   474.747952    628.555171    20.390595   \n",
       "min         0.000000      0.000000   100.000000    105.000000     6.702413   \n",
       "25%         0.000000      0.000000   700.000000   1116.250000    60.030020   \n",
       "50%      3000.000000      0.000000  1000.000000   1400.000000    77.096757   \n",
       "75%      6000.000000      0.000000  1300.000000   1691.500000    88.460263   \n",
       "max    300000.000000  30000.000000  5000.000000  11140.000000   100.000000   \n",
       "\n",
       "           Savings  \n",
       "count  4446.000000  \n",
       "mean      3.860083  \n",
       "std       3.726292  \n",
       "min      -8.160000  \n",
       "25%       1.615385  \n",
       "50%       3.120000  \n",
       "75%       5.195688  \n",
       "max      33.250000  "
      ]
     },
     "execution_count": 4,
     "metadata": {},
     "output_type": "execute_result"
    }
   ],
   "source": [
    "data.describe()"
   ]
  },
  {
   "cell_type": "code",
   "execution_count": 5,
   "id": "c197467b",
   "metadata": {},
   "outputs": [
    {
     "data": {
      "text/plain": [
       "Status        0\n",
       "Seniority     0\n",
       "Home          0\n",
       "Time          0\n",
       "Age           0\n",
       "Marital       0\n",
       "Records       0\n",
       "Job           0\n",
       "Expenses      0\n",
       "Income        0\n",
       "Assets        0\n",
       "Debt          0\n",
       "Amount        0\n",
       "Price         0\n",
       "Finrat        0\n",
       "Savings       0\n",
       "seniorityR    0\n",
       "timeR         0\n",
       "ageR          0\n",
       "expensesR     0\n",
       "incomeR       0\n",
       "assetsR       0\n",
       "debtR         0\n",
       "amountR       0\n",
       "priceR        0\n",
       "finratR       0\n",
       "savingsR      0\n",
       "dtype: int64"
      ]
     },
     "execution_count": 5,
     "metadata": {},
     "output_type": "execute_result"
    }
   ],
   "source": [
    "data.isnull().sum()"
   ]
  },
  {
   "cell_type": "code",
   "execution_count": 6,
   "id": "d8dd09ae",
   "metadata": {},
   "outputs": [],
   "source": [
    "data.drop_duplicates(inplace=True) "
   ]
  },
  {
   "cell_type": "code",
   "execution_count": 7,
   "id": "af91bde0",
   "metadata": {},
   "outputs": [],
   "source": [
    "#univariate analysis\n",
    "import seaborn as sb\n",
    "import pandas as pd"
   ]
  },
  {
   "cell_type": "code",
   "execution_count": 8,
   "id": "cdcbfd53",
   "metadata": {},
   "outputs": [
    {
     "name": "stderr",
     "output_type": "stream",
     "text": [
      "C:\\Users\\HP\\anaconda3\\lib\\site-packages\\seaborn\\distributions.py:2619: FutureWarning: `distplot` is a deprecated function and will be removed in a future version. Please adapt your code to use either `displot` (a figure-level function with similar flexibility) or `histplot` (an axes-level function for histograms).\n",
      "  warnings.warn(msg, FutureWarning)\n"
     ]
    },
    {
     "data": {
      "text/plain": [
       "<AxesSubplot:xlabel='Income', ylabel='Density'>"
      ]
     },
     "execution_count": 8,
     "metadata": {},
     "output_type": "execute_result"
    },
    {
     "data": {
      "image/png": "[encoded data removed]",
      "text/plain": [
       "<Figure size 640x480 with 1 Axes>"
      ]
     },
     "metadata": {},
     "output_type": "display_data"
    }
   ],
   "source": [
    "sb.distplot(data[\"Income\"])"
   ]
  },
  {
   "cell_type": "code",
   "execution_count": 9,
   "id": "3abc3aec",
   "metadata": {},
   "outputs": [
    {
     "data": {
      "text/plain": [
       "array([[<AxesSubplot:title={'center':'Income'}>]], dtype=object)"
      ]
     },
     "execution_count": 9,
     "metadata": {},
     "output_type": "execute_result"
    },
    {
     "data": {
      "image/png": "[encoded data removed]",
      "text/plain": [
       "<Figure size 640x480 with 1 Axes>"
      ]
     },
     "metadata": {},
     "output_type": "display_data"
    }
   ],
   "source": [
    "data.hist(\"Income\", grid=True)"
   ]
  },
  {
   "cell_type": "code",
   "execution_count": 10,
   "id": "e94fdedc",
   "metadata": {},
   "outputs": [
    {
     "data": {
      "text/html": [
       "<div>\n",
       "<style scoped>\n",
       "    .dataframe tbody tr th:only-of-type {\n",
       "        vertical-align: middle;\n",
       "    }\n",
       "\n",
       "    .dataframe tbody tr th {\n",
       "        vertical-align: top;\n",
       "    }\n",
       "\n",
       "    .dataframe thead th {\n",
       "        text-align: right;\n",
       "    }\n",
       "</style>\n",
       "<table border=\"1\" class=\"dataframe\">\n",
       "  <thead>\n",
       "    <tr style=\"text-align: right;\">\n",
       "      <th></th>\n",
       "      <th>Seniority</th>\n",
       "      <th>Time</th>\n",
       "      <th>Age</th>\n",
       "      <th>Expenses</th>\n",
       "      <th>Income</th>\n",
       "      <th>Assets</th>\n",
       "      <th>Debt</th>\n",
       "      <th>Amount</th>\n",
       "      <th>Price</th>\n",
       "      <th>Finrat</th>\n",
       "      <th>Savings</th>\n",
       "    </tr>\n",
       "  </thead>\n",
       "  <tbody>\n",
       "    <tr>\n",
       "      <th>Seniority</th>\n",
       "      <td>1.000000</td>\n",
       "      <td>-0.021701</td>\n",
       "      <td>0.506102</td>\n",
       "      <td>0.125775</td>\n",
       "      <td>0.121145</td>\n",
       "      <td>0.124367</td>\n",
       "      <td>-0.019401</td>\n",
       "      <td>-0.007763</td>\n",
       "      <td>0.041119</td>\n",
       "      <td>-0.073619</td>\n",
       "      <td>0.093238</td>\n",
       "    </tr>\n",
       "    <tr>\n",
       "      <th>Time</th>\n",
       "      <td>-0.021701</td>\n",
       "      <td>1.000000</td>\n",
       "      <td>-0.051838</td>\n",
       "      <td>-0.001866</td>\n",
       "      <td>-0.029687</td>\n",
       "      <td>-0.083231</td>\n",
       "      <td>0.058394</td>\n",
       "      <td>0.431261</td>\n",
       "      <td>0.129726</td>\n",
       "      <td>0.469300</td>\n",
       "      <td>0.101901</td>\n",
       "    </tr>\n",
       "    <tr>\n",
       "      <th>Age</th>\n",
       "      <td>0.506102</td>\n",
       "      <td>-0.051838</td>\n",
       "      <td>1.000000</td>\n",
       "      <td>0.248292</td>\n",
       "      <td>0.147551</td>\n",
       "      <td>0.181009</td>\n",
       "      <td>-0.046195</td>\n",
       "      <td>0.029015</td>\n",
       "      <td>0.048680</td>\n",
       "      <td>-0.034549</td>\n",
       "      <td>0.062025</td>\n",
       "    </tr>\n",
       "    <tr>\n",
       "      <th>Expenses</th>\n",
       "      <td>0.125775</td>\n",
       "      <td>-0.001866</td>\n",
       "      <td>0.248292</td>\n",
       "      <td>1.000000</td>\n",
       "      <td>0.255506</td>\n",
       "      <td>0.019288</td>\n",
       "      <td>0.014822</td>\n",
       "      <td>0.049773</td>\n",
       "      <td>0.040890</td>\n",
       "      <td>0.024788</td>\n",
       "      <td>-0.037243</td>\n",
       "    </tr>\n",
       "    <tr>\n",
       "      <th>Income</th>\n",
       "      <td>0.121145</td>\n",
       "      <td>-0.029687</td>\n",
       "      <td>0.147551</td>\n",
       "      <td>0.255506</td>\n",
       "      <td>1.000000</td>\n",
       "      <td>0.219161</td>\n",
       "      <td>0.144645</td>\n",
       "      <td>0.190663</td>\n",
       "      <td>0.217762</td>\n",
       "      <td>-0.003688</td>\n",
       "      <td>0.717989</td>\n",
       "    </tr>\n",
       "    <tr>\n",
       "      <th>Assets</th>\n",
       "      <td>0.124367</td>\n",
       "      <td>-0.083231</td>\n",
       "      <td>0.181009</td>\n",
       "      <td>0.019288</td>\n",
       "      <td>0.219161</td>\n",
       "      <td>1.000000</td>\n",
       "      <td>0.191705</td>\n",
       "      <td>0.144405</td>\n",
       "      <td>0.194872</td>\n",
       "      <td>-0.024862</td>\n",
       "      <td>0.066753</td>\n",
       "    </tr>\n",
       "    <tr>\n",
       "      <th>Debt</th>\n",
       "      <td>-0.019401</td>\n",
       "      <td>0.058394</td>\n",
       "      <td>-0.046195</td>\n",
       "      <td>0.014822</td>\n",
       "      <td>0.144645</td>\n",
       "      <td>0.191705</td>\n",
       "      <td>1.000000</td>\n",
       "      <td>0.050827</td>\n",
       "      <td>0.043911</td>\n",
       "      <td>0.008478</td>\n",
       "      <td>0.004937</td>\n",
       "    </tr>\n",
       "    <tr>\n",
       "      <th>Amount</th>\n",
       "      <td>-0.007763</td>\n",
       "      <td>0.431261</td>\n",
       "      <td>0.029015</td>\n",
       "      <td>0.049773</td>\n",
       "      <td>0.190663</td>\n",
       "      <td>0.144405</td>\n",
       "      <td>0.050827</td>\n",
       "      <td>1.000000</td>\n",
       "      <td>0.725077</td>\n",
       "      <td>0.473693</td>\n",
       "      <td>-0.149625</td>\n",
       "    </tr>\n",
       "    <tr>\n",
       "      <th>Price</th>\n",
       "      <td>0.041119</td>\n",
       "      <td>0.129726</td>\n",
       "      <td>0.048680</td>\n",
       "      <td>0.040890</td>\n",
       "      <td>0.217762</td>\n",
       "      <td>0.194872</td>\n",
       "      <td>0.043911</td>\n",
       "      <td>0.725077</td>\n",
       "      <td>1.000000</td>\n",
       "      <td>-0.181426</td>\n",
       "      <td>-0.070524</td>\n",
       "    </tr>\n",
       "    <tr>\n",
       "      <th>Finrat</th>\n",
       "      <td>-0.073619</td>\n",
       "      <td>0.469300</td>\n",
       "      <td>-0.034549</td>\n",
       "      <td>0.024788</td>\n",
       "      <td>-0.003688</td>\n",
       "      <td>-0.024862</td>\n",
       "      <td>0.008478</td>\n",
       "      <td>0.473693</td>\n",
       "      <td>-0.181426</td>\n",
       "      <td>1.000000</td>\n",
       "      <td>-0.123495</td>\n",
       "    </tr>\n",
       "    <tr>\n",
       "      <th>Savings</th>\n",
       "      <td>0.093238</td>\n",
       "      <td>0.101901</td>\n",
       "      <td>0.062025</td>\n",
       "      <td>-0.037243</td>\n",
       "      <td>0.717989</td>\n",
       "      <td>0.066753</td>\n",
       "      <td>0.004937</td>\n",
       "      <td>-0.149625</td>\n",
       "      <td>-0.070524</td>\n",
       "      <td>-0.123495</td>\n",
       "      <td>1.000000</td>\n",
       "    </tr>\n",
       "  </tbody>\n",
       "</table>\n",
       "</div>"
      ],
      "text/plain": [
       "           Seniority      Time       Age  Expenses    Income    Assets  \\\n",
       "Seniority   1.000000 -0.021701  0.506102  0.125775  0.121145  0.124367   \n",
       "Time       -0.021701  1.000000 -0.051838 -0.001866 -0.029687 -0.083231   \n",
       "Age         0.506102 -0.051838  1.000000  0.248292  0.147551  0.181009   \n",
       "Expenses    0.125775 -0.001866  0.248292  1.000000  0.255506  0.019288   \n",
       "Income      0.121145 -0.029687  0.147551  0.255506  1.000000  0.219161   \n",
       "Assets      0.124367 -0.083231  0.181009  0.019288  0.219161  1.000000   \n",
       "Debt       -0.019401  0.058394 -0.046195  0.014822  0.144645  0.191705   \n",
       "Amount     -0.007763  0.431261  0.029015  0.049773  0.190663  0.144405   \n",
       "Price       0.041119  0.129726  0.048680  0.040890  0.217762  0.194872   \n",
       "Finrat     -0.073619  0.469300 -0.034549  0.024788 -0.003688 -0.024862   \n",
       "Savings     0.093238  0.101901  0.062025 -0.037243  0.717989  0.066753   \n",
       "\n",
       "               Debt    Amount     Price    Finrat   Savings  \n",
       "Seniority -0.019401 -0.007763  0.041119 -0.073619  0.093238  \n",
       "Time       0.058394  0.431261  0.129726  0.469300  0.101901  \n",
       "Age       -0.046195  0.029015  0.048680 -0.034549  0.062025  \n",
       "Expenses   0.014822  0.049773  0.040890  0.024788 -0.037243  \n",
       "Income     0.144645  0.190663  0.217762 -0.003688  0.717989  \n",
       "Assets     0.191705  0.144405  0.194872 -0.024862  0.066753  \n",
       "Debt       1.000000  0.050827  0.043911  0.008478  0.004937  \n",
       "Amount     0.050827  1.000000  0.725077  0.473693 -0.149625  \n",
       "Price      0.043911  0.725077  1.000000 -0.181426 -0.070524  \n",
       "Finrat     0.008478  0.473693 -0.181426  1.000000 -0.123495  \n",
       "Savings    0.004937 -0.149625 -0.070524 -0.123495  1.000000  "
      ]
     },
     "execution_count": 10,
     "metadata": {},
     "output_type": "execute_result"
    }
   ],
   "source": [
    "#bivarate analysis\n",
    "# showing correlation between variables\n",
    "data.corr()"
   ]
  },
  {
   "cell_type": "code",
   "execution_count": 11,
   "id": "45368ec5",
   "metadata": {},
   "outputs": [
    {
     "data": {
      "text/html": [
       "<div>\n",
       "<style scoped>\n",
       "    .dataframe tbody tr th:only-of-type {\n",
       "        vertical-align: middle;\n",
       "    }\n",
       "\n",
       "    .dataframe tbody tr th {\n",
       "        vertical-align: top;\n",
       "    }\n",
       "\n",
       "    .dataframe thead th {\n",
       "        text-align: right;\n",
       "    }\n",
       "</style>\n",
       "<table border=\"1\" class=\"dataframe\">\n",
       "  <thead>\n",
       "    <tr style=\"text-align: right;\">\n",
       "      <th></th>\n",
       "      <th>Amount</th>\n",
       "      <th>Income</th>\n",
       "    </tr>\n",
       "  </thead>\n",
       "  <tbody>\n",
       "    <tr>\n",
       "      <th>Amount</th>\n",
       "      <td>1.000000</td>\n",
       "      <td>0.190663</td>\n",
       "    </tr>\n",
       "    <tr>\n",
       "      <th>Income</th>\n",
       "      <td>0.190663</td>\n",
       "      <td>1.000000</td>\n",
       "    </tr>\n",
       "  </tbody>\n",
       "</table>\n",
       "</div>"
      ],
      "text/plain": [
       "          Amount    Income\n",
       "Amount  1.000000  0.190663\n",
       "Income  0.190663  1.000000"
      ]
     },
     "execution_count": 11,
     "metadata": {},
     "output_type": "execute_result"
    }
   ],
   "source": [
    "data[['Amount', 'Income']].corr()"
   ]
  },
  {
   "cell_type": "code",
   "execution_count": 12,
   "id": "ff5c6a57",
   "metadata": {},
   "outputs": [],
   "source": [
    "from sklearn.linear_model import LinearRegression"
   ]
  },
  {
   "cell_type": "code",
   "execution_count": 13,
   "id": "cfe5a26c",
   "metadata": {},
   "outputs": [],
   "source": [
    "# assigning coloums \n",
    "x = data[['Income']].values\n",
    "y = data[['Amount']].values"
   ]
  },
  {
   "cell_type": "code",
   "execution_count": 14,
   "id": "cfb82a10",
   "metadata": {},
   "outputs": [],
   "source": [
    "model = LinearRegression().fit(x,y)"
   ]
  },
  {
   "cell_type": "code",
   "execution_count": 15,
   "id": "cf6ce9bb",
   "metadata": {},
   "outputs": [
    {
     "data": {
      "text/plain": [
       "array([[1.12895559]])"
      ]
     },
     "execution_count": 15,
     "metadata": {},
     "output_type": "execute_result"
    }
   ],
   "source": [
    "model.coef_"
   ]
  },
  {
   "cell_type": "code",
   "execution_count": 73,
   "id": "65d17ad4",
   "metadata": {},
   "outputs": [
    {
     "data": {
      "text/plain": [
       "array([880.11663096])"
      ]
     },
     "execution_count": 73,
     "metadata": {},
     "output_type": "execute_result"
    }
   ],
   "source": [
    "model.intercept_\n"
   ]
  },
  {
   "cell_type": "markdown",
   "id": "c0d38b1a",
   "metadata": {},
   "source": [
    "MULTIVARIATE ANALYSIS"
   ]
  },
  {
   "cell_type": "code",
   "execution_count": null,
   "id": "ba32b5b4",
   "metadata": {},
   "outputs": [],
   "source": []
  },
  {
   "cell_type": "code",
   "execution_count": 33,
   "id": "48b2d518",
   "metadata": {},
   "outputs": [
    {
     "data": {
      "text/plain": [
       "0"
      ]
     },
     "execution_count": 33,
     "metadata": {},
     "output_type": "execute_result"
    }
   ],
   "source": [
    "#checking for outliers\n",
    "from scipy import stats\n",
    "z = np.abs(stats.zscore(data['Age']))\n",
    "outliers = list(set(np.where(z > 3)[0]))\n",
    "\n",
    "len(np.where(z > 3)[0])"
   ]
  },
  {
   "cell_type": "code",
   "execution_count": 59,
   "id": "7eaa37f8",
   "metadata": {},
   "outputs": [],
   "source": [
    "# changing categirical data to numerical\n",
    "from sklearn.preprocessing import LabelEncoder"
   ]
  },
  {
   "cell_type": "code",
   "execution_count": 61,
   "id": "ae839678",
   "metadata": {},
   "outputs": [],
   "source": [
    "\n",
    "encoder = LabelEncoder()"
   ]
  },
  {
   "cell_type": "code",
   "execution_count": 62,
   "id": "0a93feb0",
   "metadata": {},
   "outputs": [],
   "source": [
    "data['Job'] = encoder.fit_transform(data['Job'])"
   ]
  },
  {
   "cell_type": "code",
   "execution_count": 64,
   "id": "e82ded68",
   "metadata": {},
   "outputs": [],
   "source": [
    "# extract the features\n",
    "x = data.loc[:,['Job', 'Assets','Debt','Income','Expenses']].values"
   ]
  },
  {
   "cell_type": "code",
   "execution_count": 65,
   "id": "022c6594",
   "metadata": {},
   "outputs": [],
   "source": [
    "# standardizing the features\n",
    "from sklearn.preprocessing import StandardScaler\n",
    "sc = StandardScaler()\n",
    "x_scaled = sc.fit_transform(x)"
   ]
  },
  {
   "cell_type": "code",
   "execution_count": 66,
   "id": "b4703e86",
   "metadata": {},
   "outputs": [
    {
     "data": {
      "text/plain": [
       "array([[ 0.40506746, -0.46407386, -0.27507024, -0.14530561,  0.89176346],\n",
       "       [-0.63546421, -0.46407386, -0.27507024, -0.12036111, -0.38938328],\n",
       "       [ 0.40506746, -0.20397356, -0.27507024,  0.74022393,  1.76294324],\n",
       "       ...,\n",
       "       [ 2.48613078, -0.16062351, -0.27507024, -0.63172324,  0.22556716],\n",
       "       [ 0.40506746, -0.46407386, -0.27507024, -0.00811089, -0.33813741],\n",
       "       [ 0.40506746, -0.11727346,  0.52826302, -0.00811089,  0.22556716]])"
      ]
     },
     "execution_count": 66,
     "metadata": {},
     "output_type": "execute_result"
    }
   ],
   "source": [
    "x_scaled"
   ]
  },
  {
   "cell_type": "code",
   "execution_count": 67,
   "id": "137c3cfa",
   "metadata": {},
   "outputs": [],
   "source": [
    "#PCA\n",
    "from sklearn.decomposition import PCA\n",
    "pc = PCA(n_components=5)"
   ]
  },
  {
   "cell_type": "code",
   "execution_count": 68,
   "id": "a493e255",
   "metadata": {},
   "outputs": [
    {
     "data": {
      "text/plain": [
       "array([[-0.13193824, -0.54425104, -0.84092751, -0.44399213,  0.23142736],\n",
       "       [-0.46283751, -0.47271612,  0.60939255,  0.13354354, -0.1845991 ],\n",
       "       [ 0.90969556, -1.01027715, -1.38379397, -0.39891865,  0.12256042],\n",
       "       ...,\n",
       "       [-0.92679566,  1.15911162, -2.06540225, -0.51307089, -0.02542544],\n",
       "       [-0.55028801,  0.05140323, -0.23394866, -0.04237115, -0.45554807],\n",
       "       [ 0.18197943,  0.28140053, -0.23188969, -0.58455218, -0.00800052]])"
      ]
     },
     "execution_count": 68,
     "metadata": {},
     "output_type": "execute_result"
    }
   ],
   "source": [
    "p = pc.fit_transform(x_scaled)\n",
    "p"
   ]
  },
  {
   "cell_type": "code",
   "execution_count": 72,
   "id": "df472b07",
   "metadata": {},
   "outputs": [
    {
     "data": {
      "text/html": [
       "<div>\n",
       "<style scoped>\n",
       "    .dataframe tbody tr th:only-of-type {\n",
       "        vertical-align: middle;\n",
       "    }\n",
       "\n",
       "    .dataframe tbody tr th {\n",
       "        vertical-align: top;\n",
       "    }\n",
       "\n",
       "    .dataframe thead th {\n",
       "        text-align: right;\n",
       "    }\n",
       "</style>\n",
       "<table border=\"1\" class=\"dataframe\">\n",
       "  <thead>\n",
       "    <tr style=\"text-align: right;\">\n",
       "      <th></th>\n",
       "      <th>area1</th>\n",
       "      <th>area2</th>\n",
       "      <th>area3</th>\n",
       "      <th>area4</th>\n",
       "      <th>area5</th>\n",
       "      <th>Status</th>\n",
       "    </tr>\n",
       "  </thead>\n",
       "  <tbody>\n",
       "    <tr>\n",
       "      <th>0</th>\n",
       "      <td>-0.131938</td>\n",
       "      <td>-0.544251</td>\n",
       "      <td>-0.840928</td>\n",
       "      <td>-0.443992</td>\n",
       "      <td>0.231427</td>\n",
       "      <td>good</td>\n",
       "    </tr>\n",
       "    <tr>\n",
       "      <th>1</th>\n",
       "      <td>-0.462838</td>\n",
       "      <td>-0.472716</td>\n",
       "      <td>0.609393</td>\n",
       "      <td>0.133544</td>\n",
       "      <td>-0.184599</td>\n",
       "      <td>good</td>\n",
       "    </tr>\n",
       "    <tr>\n",
       "      <th>2</th>\n",
       "      <td>0.909696</td>\n",
       "      <td>-1.010277</td>\n",
       "      <td>-1.383794</td>\n",
       "      <td>-0.398919</td>\n",
       "      <td>0.122560</td>\n",
       "      <td>bad</td>\n",
       "    </tr>\n",
       "    <tr>\n",
       "      <th>3</th>\n",
       "      <td>0.358357</td>\n",
       "      <td>-0.865050</td>\n",
       "      <td>0.146650</td>\n",
       "      <td>0.139534</td>\n",
       "      <td>-0.181059</td>\n",
       "      <td>good</td>\n",
       "    </tr>\n",
       "    <tr>\n",
       "      <th>4</th>\n",
       "      <td>-0.694094</td>\n",
       "      <td>-0.369615</td>\n",
       "      <td>0.694293</td>\n",
       "      <td>0.110598</td>\n",
       "      <td>-0.016488</td>\n",
       "      <td>good</td>\n",
       "    </tr>\n",
       "  </tbody>\n",
       "</table>\n",
       "</div>"
      ],
      "text/plain": [
       "      area1     area2     area3     area4     area5 Status\n",
       "0 -0.131938 -0.544251 -0.840928 -0.443992  0.231427   good\n",
       "1 -0.462838 -0.472716  0.609393  0.133544 -0.184599   good\n",
       "2  0.909696 -1.010277 -1.383794 -0.398919  0.122560    bad\n",
       "3  0.358357 -0.865050  0.146650  0.139534 -0.181059   good\n",
       "4 -0.694094 -0.369615  0.694293  0.110598 -0.016488   good"
      ]
     },
     "execution_count": 72,
     "metadata": {},
     "output_type": "execute_result"
    }
   ],
   "source": [
    "principalDF = pd.DataFrame(data=p, columns = ['area1', 'area2','area3', 'area4','area5'])\n",
    "finalDF = pd.concat([principalDF, data[['Status']]], axis = 1)\n",
    "finalDF.head()"
   ]
  },
  {
   "cell_type": "code",
   "execution_count": null,
   "id": "727777fd",
   "metadata": {},
   "outputs": [],
   "source": []
  }
 ],
 "metadata": {
  "kernelspec": {
   "display_name": "Python 3 (ipykernel)",
   "language": "python",
   "name": "python3"
  },
  "language_info": {
   "codemirror_mode": {
    "name": "ipython",
    "version": 3
   },
   "file_extension": ".py",
   "mimetype": "text/x-python",
   "name": "python",
   "nbconvert_exporter": "python",
   "pygments_lexer": "ipython3",
   "version": "3.9.13"
  }
 },
 "nbformat": 4,
 "nbformat_minor": 5
}
